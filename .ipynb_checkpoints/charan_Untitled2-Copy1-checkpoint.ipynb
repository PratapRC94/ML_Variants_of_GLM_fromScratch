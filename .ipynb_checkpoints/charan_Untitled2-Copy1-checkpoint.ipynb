{
 "cells": [
  {
   "cell_type": "code",
   "execution_count": 1,
   "metadata": {},
   "outputs": [],
   "source": [
    "import numpy as np\n",
    "import csv\n",
    "import time\n",
    "import matplotlib.pyplot as plt\n",
    "%matplotlib inline"
   ]
  },
  {
   "cell_type": "code",
   "execution_count": 8,
   "metadata": {},
   "outputs": [],
   "source": [
    "train_data = []\n",
    "with open('pp3data//irlstest.csv', 'r') as csvfile:\n",
    "    # creating a csv reader object\n",
    "    csvreader = csv.reader(csvfile)\n",
    "    \n",
    "    \n",
    "    # extracting each data row one by one\n",
    "    for row in csvreader:\n",
    "        train_data.append(row)\n",
    "\n",
    "train_label = []\n",
    "with open('pp3data//labels-irlstest.csv', 'r') as csvfile:\n",
    "    # creating a csv reader object\n",
    "    csvreader = csv.reader(csvfile)\n",
    "    \n",
    "    \n",
    "    # extracting each data row one by one\n",
    "    for row in csvreader:\n",
    "        train_label.append(row)\n"
   ]
  },
  {
   "cell_type": "code",
   "execution_count": 12,
   "metadata": {},
   "outputs": [
    {
     "data": {
      "text/plain": [
       "array([ 1.     ,  0.74797, -0.16114, -0.85397, -0.43461, -1.3022 ,\n",
       "       -0.23276,  1.6758 , -0.62386,  1.8707 , -4.988  ])"
      ]
     },
     "execution_count": 12,
     "metadata": {},
     "output_type": "execute_result"
    }
   ],
   "source": [
    "train_data[0]"
   ]
  },
  {
   "cell_type": "code",
   "execution_count": 10,
   "metadata": {},
   "outputs": [
    {
     "name": "stdout",
     "output_type": "stream",
     "text": [
      "(200, 1)\n"
     ]
    }
   ],
   "source": [
    "train_data = np.insert(train_data, 0, 1, axis=1)\n",
    "train_data = np.array(train_data,dtype=float)\n",
    "train_label = np.array(train_label,dtype=float)\n",
    "\n",
    "number_of_features = len(train_data[1])\n",
    "number_of_examples = len(train_data)\n",
    "\n",
    "\n",
    "identity_matrix = np.identity(number_of_features)\n",
    "\n",
    "phi = train_data\n",
    "t = train_label\n",
    "print(t.shape)"
   ]
  },
  {
   "cell_type": "markdown",
   "metadata": {},
   "source": [
    "<h2> Logistic </h2>"
   ]
  },
  {
   "cell_type": "code",
   "execution_count": 18,
   "metadata": {},
   "outputs": [
    {
     "data": {
      "text/plain": [
       "(200, array([0.05325272]))"
      ]
     },
     "execution_count": 18,
     "metadata": {},
     "output_type": "execute_result"
    }
   ],
   "source": [
    "y = np.dot(phi,w)\n",
    "len(y),y[0]"
   ]
  },
  {
   "cell_type": "code",
   "execution_count": 25,
   "metadata": {},
   "outputs": [],
   "source": [
    "x=sigmoid(y)"
   ]
  },
  {
   "cell_type": "code",
   "execution_count": 22,
   "metadata": {},
   "outputs": [
    {
     "data": {
      "text/plain": [
       "200"
      ]
     },
     "execution_count": 22,
     "metadata": {},
     "output_type": "execute_result"
    }
   ],
   "source": [
    "len(y_new)"
   ]
  },
  {
   "cell_type": "code",
   "execution_count": 27,
   "metadata": {
    "collapsed": true
   },
   "outputs": [
    {
     "data": {
      "text/plain": [
       "[array([0.51331003]),\n",
       " array([0.2950178]),\n",
       " array([0.64822995]),\n",
       " array([0.3649073]),\n",
       " array([0.51332331]),\n",
       " array([0.44781432]),\n",
       " array([0.48656291]),\n",
       " array([0.50530251]),\n",
       " array([0.45857185]),\n",
       " array([0.44570446]),\n",
       " array([0.44359094]),\n",
       " array([0.55833153]),\n",
       " array([0.66486694]),\n",
       " array([0.5035265]),\n",
       " array([0.39073492]),\n",
       " array([0.61846963]),\n",
       " array([0.58841921]),\n",
       " array([0.61771919]),\n",
       " array([0.48434438]),\n",
       " array([0.59291993]),\n",
       " array([0.46927321]),\n",
       " array([0.64599779]),\n",
       " array([0.32917253]),\n",
       " array([0.52835715]),\n",
       " array([0.51921513]),\n",
       " array([0.22100549]),\n",
       " array([0.33074314]),\n",
       " array([0.20437607]),\n",
       " array([0.4604721]),\n",
       " array([0.52876467]),\n",
       " array([0.65808392]),\n",
       " array([0.3059921]),\n",
       " array([0.29777603]),\n",
       " array([0.47448811]),\n",
       " array([0.50406432]),\n",
       " array([0.65763569]),\n",
       " array([0.22385563]),\n",
       " array([0.29367188]),\n",
       " array([0.55900803]),\n",
       " array([0.54716618]),\n",
       " array([0.39655556]),\n",
       " array([0.52784089]),\n",
       " array([0.39455867]),\n",
       " array([0.53307014]),\n",
       " array([0.35721621]),\n",
       " array([0.53364735]),\n",
       " array([0.50550844]),\n",
       " array([0.18640336]),\n",
       " array([0.40538027]),\n",
       " array([0.51099867]),\n",
       " array([0.39848365]),\n",
       " array([0.34869377]),\n",
       " array([0.34123748]),\n",
       " array([0.79183806]),\n",
       " array([0.5070377]),\n",
       " array([0.57522175]),\n",
       " array([0.58113127]),\n",
       " array([0.30996045]),\n",
       " array([0.31906447]),\n",
       " array([0.3376126]),\n",
       " array([0.43324684]),\n",
       " array([0.31493976]),\n",
       " array([0.61149699]),\n",
       " array([0.49280331]),\n",
       " array([0.44463181]),\n",
       " array([0.33804942]),\n",
       " array([0.37807359]),\n",
       " array([0.70680219]),\n",
       " array([0.48841496]),\n",
       " array([0.48191098]),\n",
       " array([0.6066482]),\n",
       " array([0.63329039]),\n",
       " array([0.3956828]),\n",
       " array([0.41644939]),\n",
       " array([0.68224924]),\n",
       " array([0.53516525]),\n",
       " array([0.49778079]),\n",
       " array([0.29233482]),\n",
       " array([0.59124695]),\n",
       " array([0.66179587]),\n",
       " array([0.256979]),\n",
       " array([0.31224162]),\n",
       " array([0.33804613]),\n",
       " array([0.35279503]),\n",
       " array([0.61429457]),\n",
       " array([0.58289977]),\n",
       " array([0.68437532]),\n",
       " array([0.56595839]),\n",
       " array([0.50415725]),\n",
       " array([0.24259284]),\n",
       " array([0.47934689]),\n",
       " array([0.51333276]),\n",
       " array([0.61426282]),\n",
       " array([0.31677742]),\n",
       " array([0.52853565]),\n",
       " array([0.61397739]),\n",
       " array([0.35784558]),\n",
       " array([0.5510098]),\n",
       " array([0.652298]),\n",
       " array([0.27625664]),\n",
       " array([0.50507427]),\n",
       " array([0.61475179]),\n",
       " array([0.44677648]),\n",
       " array([0.6357177]),\n",
       " array([0.46736826]),\n",
       " array([0.49286956]),\n",
       " array([0.44854008]),\n",
       " array([0.55501281]),\n",
       " array([0.35869593]),\n",
       " array([0.78989859]),\n",
       " array([0.38800277]),\n",
       " array([0.60190094]),\n",
       " array([0.54768297]),\n",
       " array([0.37635239]),\n",
       " array([0.47369146]),\n",
       " array([0.56550493]),\n",
       " array([0.25723485]),\n",
       " array([0.47519675]),\n",
       " array([0.42847656]),\n",
       " array([0.64101941]),\n",
       " array([0.52358792]),\n",
       " array([0.52759809]),\n",
       " array([0.59071279]),\n",
       " array([0.72638723]),\n",
       " array([0.32088044]),\n",
       " array([0.35009226]),\n",
       " array([0.4251309]),\n",
       " array([0.70678304]),\n",
       " array([0.59065118]),\n",
       " array([0.45237109]),\n",
       " array([0.52216939]),\n",
       " array([0.326076]),\n",
       " array([0.60352527]),\n",
       " array([0.34560088]),\n",
       " array([0.3859648]),\n",
       " array([0.32684729]),\n",
       " array([0.37524407]),\n",
       " array([0.59190547]),\n",
       " array([0.44091917]),\n",
       " array([0.28659356]),\n",
       " array([0.60544844]),\n",
       " array([0.44465543]),\n",
       " array([0.38064798]),\n",
       " array([0.28103942]),\n",
       " array([0.66395762]),\n",
       " array([0.61014141]),\n",
       " array([0.26715896]),\n",
       " array([0.3304732]),\n",
       " array([0.3730696]),\n",
       " array([0.42650578]),\n",
       " array([0.62918621]),\n",
       " array([0.7976357]),\n",
       " array([0.47578637]),\n",
       " array([0.34467572]),\n",
       " array([0.23474209]),\n",
       " array([0.30595552]),\n",
       " array([0.56127277]),\n",
       " array([0.75001389]),\n",
       " array([0.31170386]),\n",
       " array([0.57480351]),\n",
       " array([0.50198549]),\n",
       " array([0.46587095]),\n",
       " array([0.34532002]),\n",
       " array([0.39764333]),\n",
       " array([0.27224339]),\n",
       " array([0.43389245]),\n",
       " array([0.43710755]),\n",
       " array([0.60623175]),\n",
       " array([0.54449861]),\n",
       " array([0.31469862]),\n",
       " array([0.17777491]),\n",
       " array([0.35866945]),\n",
       " array([0.41310384]),\n",
       " array([0.44055211]),\n",
       " array([0.54448606]),\n",
       " array([0.65812249]),\n",
       " array([0.58942718]),\n",
       " array([0.28142377]),\n",
       " array([0.56979056]),\n",
       " array([0.69419299]),\n",
       " array([0.54715056]),\n",
       " array([0.46626123]),\n",
       " array([0.65747733]),\n",
       " array([0.53198078]),\n",
       " array([0.29115142]),\n",
       " array([0.77509334]),\n",
       " array([0.77789762]),\n",
       " array([0.39723109]),\n",
       " array([0.48191981]),\n",
       " array([0.35981225]),\n",
       " array([0.46072303]),\n",
       " array([0.22514375]),\n",
       " array([0.5892892]),\n",
       " array([0.45183711]),\n",
       " array([0.3846883]),\n",
       " array([0.35980865]),\n",
       " array([0.64897364]),\n",
       " array([0.45135186]),\n",
       " array([0.35966405]),\n",
       " array([0.29241541])]"
      ]
     },
     "execution_count": 27,
     "metadata": {},
     "output_type": "execute_result"
    }
   ],
   "source": [
    "y_new"
   ]
  },
  {
   "cell_type": "code",
   "execution_count": 20,
   "metadata": {},
   "outputs": [],
   "source": [
    "def sigmoid(x):\n",
    "    return 1 / (1 + np.exp(-x))\n",
    "y_new = []\n",
    "for i in range(len(y)):\n",
    "    y_new.append(sigmoid(y[i]))"
   ]
  },
  {
   "cell_type": "code",
   "execution_count": 13,
   "metadata": {},
   "outputs": [],
   "source": [
    "w = np.random.normal(0,0.1, number_of_features)\n",
    "w = w.reshape(number_of_features,1)\n",
    "def GLM(phi,w):\n",
    "    y = np.dot(phi,w)\n",
    "    import math\n",
    "    def sigmoid(x):\n",
    "        return 1 / (1 + math.exp(-x))\n",
    "    y_new = []\n",
    "    for i in range(len(y)):\n",
    "        y_new.append(sigmoid(y[i]))\n",
    "    y_new = np.asarray(y_new)\n",
    "    y_new = y_new.reshape(len(y_new),1)\n",
    "    d = t - y_new\n",
    "    r=[]\n",
    "    for i in range(len(y)):\n",
    "        r.append(y_new[i]*(1-y_new[i]))\n",
    "\n",
    "    a = np.matrix(r) \n",
    "    r_new = np.diagflat(a) \n",
    "    alpha = 10\n",
    "    \n",
    "    w_updated = w - np.dot(np.linalg.inv((-alpha*identity_matrix-np.dot(np.dot(phi.T,r_new),phi))),(np.dot(phi.T,d) - alpha*w))\n",
    "    w_updated = np.asarray(w_updated)\n",
    "    \n",
    "    \n",
    "    if np.linalg.norm(w_updated - w)/np.linalg.norm(w) < 0.001:\n",
    "        return w_updated\n",
    "        \n",
    "    else:\n",
    "        return GLM(phi,w_updated)\n",
    "w_final = GLM(phi,w)\n",
    "\n"
   ]
  },
  {
   "cell_type": "code",
   "execution_count": 14,
   "metadata": {
    "collapsed": true
   },
   "outputs": [
    {
     "data": {
      "text/plain": [
       "array([[-0.86174271],\n",
       "       [-0.05967772],\n",
       "       [-0.0631488 ],\n",
       "       [-0.01248458],\n",
       "       [ 0.00677611],\n",
       "       [-0.03492038],\n",
       "       [ 0.4090312 ],\n",
       "       [ 0.35580875],\n",
       "       [ 0.53620875],\n",
       "       [ 0.37579591],\n",
       "       [ 0.20092985]])"
      ]
     },
     "execution_count": 14,
     "metadata": {},
     "output_type": "execute_result"
    }
   ],
   "source": [
    "w_final"
   ]
  },
  {
   "cell_type": "code",
   "execution_count": 48,
   "metadata": {},
   "outputs": [
    {
     "name": "stdout",
     "output_type": "stream",
     "text": [
      "26\n"
     ]
    }
   ],
   "source": [
    "import math\n",
    "def sigmoid(x):\n",
    "    return 1 / (1 + math.exp(-x))\n",
    "y = np.dot(phi,w_final)\n",
    "y_new = []\n",
    "for i in range(len(y)):\n",
    "    y_new.append(sigmoid(y[i]))\n",
    "y_new = np.asarray(y_new)\n",
    "y_new = y_new.reshape(len(y_new),1)\n",
    "\n",
    "predicted_labels = []\n",
    "for i in range(len(y_new)):\n",
    "    if y_new[i] >= 0.5:\n",
    "        predicted_labels.append(1)\n",
    "    else:\n",
    "        predicted_labels.append(0)\n",
    "predicted_labels = np.reshape(predicted_labels,(len(predicted_labels),1))\n",
    "error_count = 0\n",
    "for i in range(len(predicted_labels)):\n",
    "    if predicted_labels[i] != t[i]:\n",
    "        error_count = error_count +1\n",
    "print(error_count)"
   ]
  },
  {
   "cell_type": "markdown",
   "metadata": {},
   "source": [
    "<h2> Poisson </h2>"
   ]
  },
  {
   "cell_type": "code",
   "execution_count": 60,
   "metadata": {},
   "outputs": [
    {
     "name": "stdout",
     "output_type": "stream",
     "text": [
      "[[-0.97123325]\n",
      " [ 0.00100678]\n",
      " [-0.0158747 ]\n",
      " [ 0.01020513]\n",
      " [ 0.02084309]\n",
      " [-0.00099668]\n",
      " [ 0.05320688]\n",
      " [ 0.06217996]\n",
      " [ 0.09600111]\n",
      " [ 0.07445049]\n",
      " [ 0.02416317]]\n"
     ]
    }
   ],
   "source": [
    "w = np.random.normal(0,0.1, number_of_features)\n",
    "w = w.reshape(number_of_features,1)\n",
    "def GLM(phi,w):\n",
    "    import math\n",
    "    y= np.dot(phi,w)\n",
    "    y_new = []\n",
    "    for i in range(len(y)):\n",
    "        y_new.append(math.exp(y[i]))\n",
    "    y_new = np.asarray(y_new)\n",
    "    y_new = y_new.reshape(len(y_new),1)\n",
    "    d = t - y_new\n",
    "    r=[]\n",
    "    for i in range(len(y)):\n",
    "        r.append(y_new[i])\n",
    "\n",
    "    a = np.matrix(r) \n",
    "    r_new = np.diagflat(a)\n",
    "    \n",
    "    alpha = 10\n",
    "    w_updated = w - np.dot(np.linalg.inv((-alpha*identity_matrix-np.dot(np.dot(phi.T,r_new),phi))),(np.dot(phi.T,d) - alpha*w))\n",
    "    w_updated = np.asarray(w_updated)\n",
    "    \n",
    "\n",
    "    if np.linalg.norm(w_updated - w)/np.linalg.norm(w) < 0.001:\n",
    "        return w_updated\n",
    "    else:\n",
    "        return GLM(phi,w_updated)\n",
    "    \n",
    "\n",
    "w_final =GLM(phi,w) \n",
    "print(w_final)\n"
   ]
  },
  {
   "cell_type": "code",
   "execution_count": 61,
   "metadata": {},
   "outputs": [],
   "source": [
    "import math\n",
    "y= np.dot(phi,w_final)\n",
    "y_new = []\n",
    "for i in range(len(y)):\n",
    "    y_new.append(math.exp(y[i]))\n",
    "y_new = np.asarray(y_new)\n",
    "y_new = y_new.reshape(len(y_new),1)\n"
   ]
  },
  {
   "cell_type": "markdown",
   "metadata": {},
   "source": [
    "<h2> Logistic total </h2>"
   ]
  },
  {
   "cell_type": "code",
   "execution_count": 138,
   "metadata": {},
   "outputs": [],
   "source": [
    "train_data = []\n",
    "with open('irlstest.csv', 'r') as csvfile:\n",
    "    # creating a csv reader object\n",
    "    csvreader = csv.reader(csvfile)\n",
    "    \n",
    "    \n",
    "    # extracting each data row one by one\n",
    "    for row in csvreader:\n",
    "        train_data.append(row)\n",
    "\n",
    "train_label = []\n",
    "with open('labels-irlstest.csv', 'r') as csvfile:\n",
    "    # creating a csv reader object\n",
    "    csvreader = csv.reader(csvfile)\n",
    "    \n",
    "    \n",
    "    # extracting each data row one by one\n",
    "    for row in csvreader:\n",
    "        train_label.append(row)"
   ]
  },
  {
   "cell_type": "code",
   "execution_count": 139,
   "metadata": {},
   "outputs": [
    {
     "name": "stdout",
     "output_type": "stream",
     "text": [
      "[[ 1.        0.74797  -0.16114  ...  1.8707   -4.988     1.      ]\n",
      " [ 1.       -1.2347    3.6267   ... -0.75048   1.8719    0.      ]\n",
      " [ 1.        3.1604   -4.0725   ...  0.47484   0.74277   0.      ]\n",
      " ...\n",
      " [ 1.        0.033578 -0.65935  ...  2.7036    6.7927    1.      ]\n",
      " [ 1.        0.2284   -0.16572  ...  1.6748    4.0623    1.      ]\n",
      " [ 1.       -0.97018  -1.7256   ...  7.1466    3.456     1.      ]]\n"
     ]
    }
   ],
   "source": [
    "train_data = np.insert(train_data, 0, 1, axis=1)\n",
    "train_data = np.array(train_data,dtype=float)\n",
    "train_label = np.array(train_label,dtype=float)\n",
    "\n",
    "total_data = np.append(train_data,train_label,axis=1)\n",
    "print(total_data)\n",
    "import random\n",
    "np.random.shuffle(total_data)"
   ]
  },
  {
   "cell_type": "code",
   "execution_count": 145,
   "metadata": {
    "scrolled": true
   },
   "outputs": [
    {
     "name": "stdout",
     "output_type": "stream",
     "text": [
      "22\n",
      "20\n",
      "18\n",
      "15\n",
      "14\n",
      "12\n",
      "13\n",
      "14\n",
      "12\n",
      "12\n"
     ]
    }
   ],
   "source": [
    "test_full_data = total_data[:int(len(total_data)/3),:]\n",
    "test_data= test_full_data[:,:-1]\n",
    "test_label = test_full_data[:,-1]\n",
    "\n",
    "\n",
    "train_full_data = total_data[int(len(total_data)/3):,:]\n",
    "train_data= train_full_data[:,:-1]\n",
    "train_label = train_full_data[:,-1]\n",
    "\n",
    "\n",
    "for i in range(10):\n",
    "    train_data = train_full_data[:i*int(len(train_full_data)/10)+int(len(train_full_data)/10),:-1]\n",
    "    train_label = train_full_data[:i*int(len(train_full_data)/10)+int(len(train_full_data)/10),-1]\n",
    "    number_of_features = len(train_data[1])\n",
    "    number_of_examples = len(train_data)\n",
    "    identity_matrix = np.identity(number_of_features)\n",
    "    phi = train_data\n",
    "    t = train_label\n",
    "    t = t.reshape(len(t),1)\n",
    "    \n",
    "    w = np.random.normal(0,0.1, number_of_features)\n",
    "    w = w.reshape(number_of_features,1)\n",
    "    def GLM(phi,w):\n",
    "        y = np.dot(phi,w)\n",
    "       # print('charan')\n",
    "        import math\n",
    "        def sigmoid(x):\n",
    "            return 1 / (1 + math.exp(-x))\n",
    "        y_new = []\n",
    "        for i in range(len(y)):\n",
    "            y_new.append(sigmoid(y[i]))\n",
    "        y_new = np.asarray(y_new)\n",
    "        y_new = y_new.reshape(len(y_new),1)\n",
    "        d = t - y_new\n",
    "        r=[]\n",
    "        for i in range(len(y)):\n",
    "            r.append(y_new[i]*(1-y_new[i]))\n",
    "\n",
    "        a = np.matrix(r) \n",
    "        r_new = np.diagflat(a) \n",
    "        alpha = 10\n",
    "       # print(phi.shape)\n",
    "        #print(r_new.shape)\n",
    "        #print(d.shape)\n",
    "        #print(w.shape)\n",
    "        #print(identity_matrix.shape)\n",
    "        w_updated = w - np.dot(np.linalg.inv((-alpha*identity_matrix-np.dot(np.dot(phi.T,r_new),phi))),(np.dot(phi.T,d) - alpha*w))\n",
    "        w_updated = np.asarray(w_updated)\n",
    "    \n",
    "    \n",
    "        if np.linalg.norm(w_updated - w)/np.linalg.norm(w) < 0.001:\n",
    "            return w_updated\n",
    "        \n",
    "        else:\n",
    "            return GLM(phi,w_updated)\n",
    "    w_final = GLM(phi,w)\n",
    "    \n",
    "    \n",
    "    \n",
    "    \n",
    "    import math\n",
    "    def sigmoid(x):\n",
    "        return 1 / (1 + math.exp(-x))\n",
    "    y = np.dot(test_data,w_final)\n",
    "    y_new = []\n",
    "    for i in range(len(y)):\n",
    "        y_new.append(sigmoid(y[i]))\n",
    "    y_new = np.asarray(y_new)\n",
    "    y_new = y_new.reshape(len(y_new),1)\n",
    "\n",
    "    predicted_labels = []\n",
    "    for i in range(len(y_new)):\n",
    "        if y_new[i] >= 0.5:\n",
    "            predicted_labels.append(1)\n",
    "        else:\n",
    "            predicted_labels.append(0)\n",
    "    predicted_labels = np.reshape(predicted_labels,(len(predicted_labels),1))\n",
    "    error_count = 0\n",
    "    for i in range(len(predicted_labels)):\n",
    "        if predicted_labels[i] != test_label[i]:\n",
    "            error_count = error_count +1\n",
    "    print(error_count)\n",
    "\n",
    "    \n",
    "    \n"
   ]
  },
  {
   "cell_type": "markdown",
   "metadata": {},
   "source": [
    "<h2> Logistic 30 times </h2>"
   ]
  },
  {
   "cell_type": "code",
   "execution_count": 40,
   "metadata": {},
   "outputs": [
    {
     "name": "stdout",
     "output_type": "stream",
     "text": [
      "[0.0004987716674804688, 0.0008749961853027344, 0.0008499622344970703, 0.0012390613555908203, 0.0015370845794677734, 0.0014400482177734375, 0.0020139217376708984, 0.0018188953399658203, 0.0020122528076171875, 0.005372762680053711]\n"
     ]
    }
   ],
   "source": [
    "train_data = []\n",
    "with open('pp3data//irlstest.csv', 'r') as csvfile:\n",
    "    # creating a csv reader object\n",
    "    csvreader = csv.reader(csvfile)\n",
    "    \n",
    "    \n",
    "    # extracting each data row one by one\n",
    "    for row in csvreader:\n",
    "        train_data.append(row)\n",
    "\n",
    "train_label = []\n",
    "with open('pp3data//labels-irlstest.csv', 'r') as csvfile:\n",
    "    # creating a csv reader object\n",
    "    csvreader = csv.reader(csvfile)\n",
    "    \n",
    "    \n",
    "    # extracting each data row one by one\n",
    "    for row in csvreader:\n",
    "        train_label.append(row)\n",
    "\n",
    "\n",
    "train_data = np.insert(train_data, 0, 1, axis=1)\n",
    "train_data = np.array(train_data,dtype=float)\n",
    "train_label = np.array(train_label,dtype=float)\n",
    "\n",
    "total_data = np.append(train_data,train_label,axis=1)\n",
    "\n",
    "errors_30 = []\n",
    "for i in range(30):\n",
    "    import random\n",
    "    np.random.shuffle(total_data)\n",
    "    test_full_data = total_data[:int(len(total_data)/3),:]\n",
    "    test_data= test_full_data[:,:-1]\n",
    "    test_label = test_full_data[:,-1]\n",
    "\n",
    "\n",
    "    train_full_data = total_data[int(len(total_data)/3):,:]\n",
    "    train_data= train_full_data[:,:-1]\n",
    "    train_label = train_full_data[:,-1]\n",
    "\n",
    "    \n",
    "    run_time = []\n",
    "    error_train_data_size = []\n",
    "    for i in range(10):\n",
    "        train_data = train_full_data[:i*int(len(train_full_data)/10)+int(len(train_full_data)/10),:-1]\n",
    "        train_label = train_full_data[:i*int(len(train_full_data)/10)+int(len(train_full_data)/10),-1]\n",
    "        number_of_features = len(train_data[1])\n",
    "        number_of_examples = len(train_data)\n",
    "        identity_matrix = np.identity(number_of_features)\n",
    "        phi = train_data\n",
    "        t = train_label\n",
    "        t = t.reshape(len(t),1)\n",
    "    \n",
    "        w = np.random.normal(0,0.1, number_of_features)\n",
    "        w = w.reshape(number_of_features,1)\n",
    "        start = time.time()\n",
    "        def GLM(phi,w):\n",
    "            y = np.dot(phi,w)\n",
    "           # print('charan')\n",
    "            import math\n",
    "            def sigmoid(x):\n",
    "                return 1 / (1 + math.exp(-x))\n",
    "            y_new = []\n",
    "            for i in range(len(y)):\n",
    "                y_new.append(sigmoid(y[i]))\n",
    "            y_new = np.asarray(y_new)\n",
    "            y_new = y_new.reshape(len(y_new),1)\n",
    "            d = t - y_new\n",
    "            r=[]\n",
    "            for i in range(len(y)):\n",
    "                r.append(y_new[i]*(1-y_new[i]))\n",
    "\n",
    "            a = np.matrix(r) \n",
    "            r_new = np.diagflat(a) \n",
    "            alpha = 10\n",
    "           # print(phi.shape)\n",
    "            #print(r_new.shape)\n",
    "            #print(d.shape)\n",
    "            #print(w.shape)\n",
    "            #print(identity_matrix.shape)\n",
    "            w_updated = w - np.dot(np.linalg.inv((-alpha*identity_matrix-np.dot(np.dot(phi.T,r_new),phi))),(np.dot(phi.T,d) - alpha*w))\n",
    "            w_updated = np.asarray(w_updated)\n",
    "    \n",
    "            if np.linalg.norm(w_updated - w)/np.linalg.norm(w) < 0.001:\n",
    "                return w_updated\n",
    "        \n",
    "            else:\n",
    "                return GLM(phi,w_updated)\n",
    "            \n",
    "        w_final = GLM(phi,w)\n",
    "        end= time.time()\n",
    "        time_taken = end - start\n",
    "        run_time.append(time_taken)\n",
    "        \n",
    "    \n",
    "    \n",
    "    \n",
    "        import math\n",
    "        def sigmoid(x):\n",
    "            return 1 / (1 + math.exp(-x))\n",
    "        y = np.dot(test_data,w_final)\n",
    "        y_new = []\n",
    "        for i in range(len(y)):\n",
    "            y_new.append(sigmoid(y[i]))\n",
    "        y_new = np.asarray(y_new)\n",
    "        y_new = y_new.reshape(len(y_new),1)\n",
    "\n",
    "        predicted_labels = []\n",
    "        for i in range(len(y_new)):\n",
    "            if y_new[i] >= 0.5:\n",
    "                predicted_labels.append(1)\n",
    "            else:\n",
    "                predicted_labels.append(0)\n",
    "        predicted_labels = np.reshape(predicted_labels,(len(predicted_labels),1))\n",
    "        error_count = 0\n",
    "        for i in range(len(predicted_labels)):\n",
    "            if predicted_labels[i] != test_label[i]:\n",
    "                error_count = error_count +1\n",
    "        error_train_data_size.append(error_count)\n",
    "    errors_30.append(error_train_data_size)\n",
    "print(run_time)\n",
    "    #print(error_train_data_size)\n",
    "#print(errors_30)"
   ]
  },
  {
   "cell_type": "code",
   "execution_count": 41,
   "metadata": {},
   "outputs": [
    {
     "name": "stdout",
     "output_type": "stream",
     "text": [
      "20\n",
      "30\n",
      "10\n"
     ]
    }
   ],
   "source": [
    "print(errors_30[0][0])\n",
    "print(len(errors_30))\n",
    "print(len(errors_30[0]))"
   ]
  },
  {
   "cell_type": "code",
   "execution_count": 53,
   "metadata": {
    "collapsed": true
   },
   "outputs": [
    {
     "data": {
      "text/plain": [
       "[[20, 23, 22, 22, 19, 20, 20, 20, 18, 17],\n",
       " [23, 19, 20, 16, 17, 14, 14, 12, 12, 11],\n",
       " [19, 22, 21, 19, 19, 16, 12, 13, 14, 13],\n",
       " [18, 11, 12, 13, 12, 11, 14, 13, 11, 9],\n",
       " [20, 22, 19, 22, 25, 24, 18, 16, 16, 15],\n",
       " [23, 22, 19, 20, 18, 17, 18, 15, 14, 12],\n",
       " [20, 15, 11, 13, 15, 12, 12, 14, 12, 14],\n",
       " [23, 19, 21, 22, 24, 21, 18, 19, 20, 18],\n",
       " [22, 18, 12, 10, 10, 14, 11, 12, 11, 10],\n",
       " [22, 17, 17, 13, 12, 11, 6, 5, 6, 8],\n",
       " [22, 18, 14, 12, 13, 12, 11, 11, 10, 12],\n",
       " [17, 16, 17, 18, 19, 12, 15, 17, 17, 17],\n",
       " [16, 15, 16, 14, 16, 12, 11, 14, 13, 13],\n",
       " [26, 21, 20, 15, 13, 14, 12, 12, 13, 14],\n",
       " [23, 23, 19, 19, 17, 16, 15, 16, 16, 16],\n",
       " [17, 19, 23, 23, 18, 17, 17, 18, 18, 18],\n",
       " [22, 25, 25, 22, 21, 18, 17, 18, 18, 19],\n",
       " [21, 18, 14, 15, 14, 11, 13, 11, 14, 12],\n",
       " [15, 10, 11, 14, 16, 17, 18, 20, 20, 17],\n",
       " [17, 18, 17, 19, 20, 19, 21, 15, 16, 16],\n",
       " [24, 21, 21, 20, 17, 18, 16, 15, 11, 10],\n",
       " [22, 22, 16, 13, 14, 14, 13, 13, 10, 12],\n",
       " [15, 15, 15, 14, 12, 11, 12, 11, 13, 12],\n",
       " [16, 11, 14, 15, 14, 12, 15, 12, 11, 11],\n",
       " [17, 19, 18, 10, 16, 11, 11, 7, 10, 9],\n",
       " [17, 17, 13, 13, 11, 10, 11, 14, 11, 10],\n",
       " [27, 21, 19, 17, 18, 17, 17, 15, 15, 14],\n",
       " [26, 22, 20, 22, 18, 20, 15, 14, 14, 14],\n",
       " [23, 26, 26, 22, 24, 25, 20, 20, 19, 20],\n",
       " [23, 19, 20, 20, 18, 15, 13, 21, 17, 18]]"
      ]
     },
     "execution_count": 53,
     "metadata": {},
     "output_type": "execute_result"
    }
   ],
   "source": [
    "errors_30"
   ]
  },
  {
   "cell_type": "code",
   "execution_count": 42,
   "metadata": {},
   "outputs": [
    {
     "name": "stdout",
     "output_type": "stream",
     "text": [
      "[[20, 23, 19, 18, 20, 23, 20, 23, 22, 22, 22, 17, 16, 26, 23, 17, 22, 21, 15, 17, 24, 22, 15, 16, 17, 17, 27, 26, 23, 23], [23, 19, 22, 11, 22, 22, 15, 19, 18, 17, 18, 16, 15, 21, 23, 19, 25, 18, 10, 18, 21, 22, 15, 11, 19, 17, 21, 22, 26, 19], [22, 20, 21, 12, 19, 19, 11, 21, 12, 17, 14, 17, 16, 20, 19, 23, 25, 14, 11, 17, 21, 16, 15, 14, 18, 13, 19, 20, 26, 20], [22, 16, 19, 13, 22, 20, 13, 22, 10, 13, 12, 18, 14, 15, 19, 23, 22, 15, 14, 19, 20, 13, 14, 15, 10, 13, 17, 22, 22, 20], [19, 17, 19, 12, 25, 18, 15, 24, 10, 12, 13, 19, 16, 13, 17, 18, 21, 14, 16, 20, 17, 14, 12, 14, 16, 11, 18, 18, 24, 18], [20, 14, 16, 11, 24, 17, 12, 21, 14, 11, 12, 12, 12, 14, 16, 17, 18, 11, 17, 19, 18, 14, 11, 12, 11, 10, 17, 20, 25, 15], [20, 14, 12, 14, 18, 18, 12, 18, 11, 6, 11, 15, 11, 12, 15, 17, 17, 13, 18, 21, 16, 13, 12, 15, 11, 11, 17, 15, 20, 13], [20, 12, 13, 13, 16, 15, 14, 19, 12, 5, 11, 17, 14, 12, 16, 18, 18, 11, 20, 15, 15, 13, 11, 12, 7, 14, 15, 14, 20, 21], [18, 12, 14, 11, 16, 14, 12, 20, 11, 6, 10, 17, 13, 13, 16, 18, 18, 14, 20, 16, 11, 10, 13, 11, 10, 11, 15, 14, 19, 17], [17, 11, 13, 9, 15, 12, 14, 18, 10, 8, 12, 17, 13, 14, 16, 18, 19, 12, 17, 16, 10, 12, 12, 11, 9, 10, 14, 14, 20, 18]]\n"
     ]
    }
   ],
   "source": [
    "list_of_list_of_nth_training_size = []\n",
    "for i in range(len(errors_30[0])):\n",
    "    nth_training_size=[]\n",
    "    for j in range(len(errors_30)):\n",
    "        nth_training_size.append(errors_30[j][i])\n",
    "    list_of_list_of_nth_training_size.append(nth_training_size)\n",
    "print(list_of_list_of_nth_training_size)"
   ]
  },
  {
   "cell_type": "code",
   "execution_count": 43,
   "metadata": {},
   "outputs": [
    {
     "name": "stdout",
     "output_type": "stream",
     "text": [
      "[20.53333333 18.8        17.73333333 16.9        16.66666667 15.36666667\n",
      " 14.53333333 14.43333333 14.         13.7       ]\n",
      "[3.34398299 3.87642447 3.92371706 3.95263625 3.77123617 3.95376052\n",
      " 3.36386022 3.67589747 3.38624669 3.24704994]\n"
     ]
    }
   ],
   "source": [
    "training_size_mean_errors= np.mean(np.array(errors_30),axis=0)\n",
    "print(training_size_mean_errors)\n",
    "training_size_std_errors = np.std(np.array(errors_30),axis=0)\n",
    "print(training_size_std_errors)"
   ]
  },
  {
   "cell_type": "code",
   "execution_count": 44,
   "metadata": {},
   "outputs": [
    {
     "name": "stdout",
     "output_type": "stream",
     "text": [
      "[20.53333333 18.8        17.73333333 16.9        16.66666667 15.36666667\n",
      " 14.53333333 14.43333333 14.         13.7       ]\n",
      "[3.34398299 3.87642447 3.92371706 3.95263625 3.77123617 3.95376052\n",
      " 3.36386022 3.67589747 3.38624669 3.24704994]\n"
     ]
    }
   ],
   "source": [
    "training_size_mean_errors= np.mean(np.array(list_of_list_of_nth_training_size),axis=1)\n",
    "print(training_size_mean_errors)\n",
    "training_size_std_errors = np.std(np.array(list_of_list_of_nth_training_size),axis=1)\n",
    "print(training_size_std_errors)"
   ]
  },
  {
   "cell_type": "code",
   "execution_count": 50,
   "metadata": {},
   "outputs": [
    {
     "data": {
      "image/png": "[encoded data removed]",
      "text/plain": [
       "<Figure size 960x480 with 1 Axes>"
      ]
     },
     "metadata": {
      "needs_background": "light"
     },
     "output_type": "display_data"
    }
   ],
   "source": [
    "from matplotlib.pyplot import figure\n",
    "x=[0.1,0.2,0.3,0.4,0.5,0.6,0.7,0.8,0.9,1]\n",
    "figure(figsize=(12, 6), dpi=80) #dimensions of the figure\n",
    "plt.errorbar(x,training_size_mean_errors, yerr=training_size_std_errors,color='b',fmt='-o')\n",
    "#plt.errorbar(train_points, sd_parameter_wise[i],yerr=sd_parameter_wise[i],fmt='-o')\n",
    "\n",
    "plt.xlabel('times of training set size')\n",
    "plt.ylabel('mean of errors')\n",
    "plt.title('Means of Errros Vs Training Set Size')\n",
    "plt.show()"
   ]
  },
  {
   "cell_type": "code",
   "execution_count": null,
   "metadata": {},
   "outputs": [],
   "source": []
  }
 ],
 "metadata": {
  "kernelspec": {
   "display_name": "Python 3",
   "language": "python",
   "name": "python3"
  },
  "language_info": {
   "codemirror_mode": {
    "name": "ipython",
    "version": 3
   },
   "file_extension": ".py",
   "mimetype": "text/x-python",
   "name": "python",
   "nbconvert_exporter": "python",
   "pygments_lexer": "ipython3",
   "version": "3.8.8"
  }
 },
 "nbformat": 4,
 "nbformat_minor": 2
}
